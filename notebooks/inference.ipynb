{
 "cells": [
  {
   "cell_type": "code",
   "execution_count": 8,
   "metadata": {},
   "outputs": [],
   "source": [
    "import pandas as pd\n",
    "import joblib\n",
    "from sklearn.base import BaseEstimator, TransformerMixin"
   ]
  },
  {
   "cell_type": "code",
   "execution_count": 3,
   "metadata": {},
   "outputs": [],
   "source": [
    "data = pd.read_csv('../data/test_set.csv')"
   ]
  },
  {
   "cell_type": "code",
   "execution_count": 9,
   "metadata": {},
   "outputs": [],
   "source": [
    "def preprocess_txt(inp):\n",
    "    inp = inp.astype(str)\n",
    "    inp = inp.replace(r'\\w*\\d\\w*', '', regex=True)\n",
    "    inp = inp.replace(r'\\d+', '', regex=True)  # Remove numbers\n",
    "    inp = inp.replace(r'\\b\\d{1,2}[/-]\\d{1,2}[/-]\\d{2,4}\\b', '', regex=True)  # Remove dates\n",
    "    inp = inp.replace(r'[^\\w\\s]', ' ', regex=True)  # Remove special characters\n",
    "    inp = inp.str.strip()  # Remove leading/trailing whitespaces\n",
    "    inp = inp.str.lower()\n",
    "    inp = inp.replace(r'([a-z])\\1+', '', regex=True)    # Use str.replace() with a regular expression pattern to remove repeated single letters\n",
    "    inp = inp.replace(r' +', ' ', regex=True)\n",
    "\n",
    "    return inp"
   ]
  },
  {
   "cell_type": "code",
   "execution_count": 10,
   "metadata": {},
   "outputs": [],
   "source": [
    "class text_preprocessor(BaseEstimator, TransformerMixin):\n",
    "  def __init__(self):\n",
    "    return None\n",
    "  \n",
    "  def preprocess_txt(self, inp):\n",
    "    inp = inp.astype(str)\n",
    "    inp = inp.replace(r'\\w*\\d\\w*', '', regex=True)\n",
    "    inp = inp.replace(r'\\d+', '', regex=True)  # Remove numbers\n",
    "    inp = inp.replace(r'\\b\\d{1,2}[/-]\\d{1,2}[/-]\\d{2,4}\\b', '', regex=True)  # Remove dates\n",
    "    inp = inp.replace(r'[^\\w\\s]', ' ', regex=True)  # Remove special characters\n",
    "    inp = inp.str.strip()  # Remove leading/trailing whitespaces\n",
    "    inp = inp.str.lower()\n",
    "    inp = inp.replace(r'([a-z])\\1+', '', regex=True)    # Use str.replace() with a regular expression pattern to remove repeated single letters\n",
    "    inp = inp.replace(r' +', ' ', regex=True)\n",
    "    return inp\n",
    "  \n",
    "  def fit(self, x, y=None):\n",
    "    return self.fit_transform(x)\n",
    "  \n",
    "  def transform(self, x):\n",
    "    return  self.fit_transform(x)\n",
    "  \n",
    "  def fit_transform(self, x, y=0):\n",
    "    return preprocess_txt(x)"
   ]
  },
  {
   "cell_type": "code",
   "execution_count": 14,
   "metadata": {},
   "outputs": [],
   "source": [
    "model = joblib.load('../models/champion_model.pkl')\n",
    "label_encoder = joblib.load('../models/label_encoder.pkl')"
   ]
  },
  {
   "cell_type": "code",
   "execution_count": 16,
   "metadata": {},
   "outputs": [],
   "source": [
    "sample_submission = pd.read_csv('../data/sample_submission.csv')"
   ]
  },
  {
   "cell_type": "code",
   "execution_count": 21,
   "metadata": {},
   "outputs": [],
   "source": [
    "data['Product_Category'] = label_encoder.inverse_transform(model.predict(data[['Item_Description', 'Vendor_Code', 'GL_Code']]))"
   ]
  },
  {
   "cell_type": "code",
   "execution_count": 25,
   "metadata": {},
   "outputs": [],
   "source": [
    "data[sample_submission.columns].to_csv('../submission/final_submission.csv', index=False)"
   ]
  },
  {
   "cell_type": "code",
   "execution_count": null,
   "metadata": {},
   "outputs": [],
   "source": []
  }
 ],
 "metadata": {
  "kernelspec": {
   "display_name": "venv",
   "language": "python",
   "name": "python3"
  },
  "language_info": {
   "codemirror_mode": {
    "name": "ipython",
    "version": 3
   },
   "file_extension": ".py",
   "mimetype": "text/x-python",
   "name": "python",
   "nbconvert_exporter": "python",
   "pygments_lexer": "ipython3",
   "version": "3.12.6"
  }
 },
 "nbformat": 4,
 "nbformat_minor": 2
}
